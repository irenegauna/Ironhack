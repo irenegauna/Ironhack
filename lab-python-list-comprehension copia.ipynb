{
 "cells": [
  {
   "cell_type": "markdown",
   "id": "25d7736c-ba17-4aff-b6bb-66eba20fbf4e",
   "metadata": {},
   "source": [
    "# Lab | List, Dict and Set Comprehension "
   ]
  },
  {
   "cell_type": "markdown",
   "id": "7dd3cbde-675a-4b81-92c3-f728846dbe06",
   "metadata": {},
   "source": [
    "## Exercise: Managing Customer Orders Optimized with Comprehension"
   ]
  },
  {
   "cell_type": "markdown",
   "id": "5d500160-2fb7-4777-b5e4-09d45ebaf328",
   "metadata": {},
   "source": [
    "In the previous exercise, you developed a program to manage customer orders and inventory. Now, let's take it a step further and incorporate comprehension into your code.\n",
    "\n",
    "Follow the steps below to complete the exercise:\n",
    "\n",
    "1. Review your code from the previous exercise and identify areas where you can apply comprehension to simplify and streamline your code. \n",
    "\n",
    "    - *Hint: Apply it to initialize inventory, updating the inventory and printing the updated inventory.*\n",
    "    \n",
    "    - For example, in initializing the inventory, we could have:\n",
    "    \n",
    "        ```python\n",
    "        def initialize_inventory(products):\n",
    "            inventory = {product: int(input(f\"Enter the quantity of {product}s available: \")) for product in products}\n",
    "            return inventory\n",
    "\n",
    "        ```\n",
    "<br>\n",
    "    \n",
    "    \n",
    "2. Modify the function get_customer_orders so it prompts the user to enter the number of customer orders and gathers the product names using a loop and user input. Use comprehension.\n",
    "\n",
    "3. Add a new function to calculate the total price of the customer order. For each product in customer_orders, prompt the user to enter the price of that product. Use comprehension to calculate the total price. Note: assume that the user can only have 1 unit of each product.\n",
    "\n",
    "4. Modify the update_inventory function to remove the product from the inventory if its quantity becomes zero after fulfilling the customer orders. Use comprehension to filter out the products with a quantity of zero from the inventory.\n",
    "\n",
    "5. Print the total price of the customer order.\n",
    "\n",
    "Your code should produce output similar to the following:\n",
    "\n",
    "```python\n",
    "Enter the quantity of t-shirts available:  5\n",
    "Enter the quantity of mugs available:  4\n",
    "Enter the quantity of hats available:  3\n",
    "Enter the quantity of books available:  2\n",
    "Enter the quantity of keychains available:  1\n",
    "Enter the number of customer orders:  2\n",
    "Enter the name of a product that a customer wants to order:  hat\n",
    "Enter the name of a product that a customer wants to order:  keychain\n",
    "\n",
    "Order Statistics:\n",
    "Total Products Ordered: 2\n",
    "Percentage of Unique Products Ordered: 40.0\n",
    "\n",
    "Updated Inventory:\n",
    "t-shirt: 5\n",
    "mug: 4\n",
    "hat: 2\n",
    "book: 2\n",
    "Enter the price of keychain:  5\n",
    "Enter the price of hat:  10\n",
    "Total Price: 15.0\n",
    "\n",
    "```\n"
   ]
  },
  {
   "cell_type": "markdown",
   "id": "9eff3be3",
   "metadata": {},
   "source": [
    "1. Review your code from the previous exercise and identify areas where you can apply comprehension to simplify and streamline your code. \n",
    "\n",
    "    - *Hint: Apply it to initialize inventory, updating the inventory and printing the updated inventory.*\n",
    "    \n",
    "    - For example, in initializing the inventory, we could have:\n",
    "    \n",
    "        ```python\n"
   ]
  },
  {
   "cell_type": "code",
   "execution_count": 35,
   "id": "45c095d9",
   "metadata": {},
   "outputs": [
    {
     "name": "stdout",
     "output_type": "stream",
     "text": [
      "{'t-shirt': 1, 'mug': 1, 'hat': 1, 'book': 1, 'keychain': 1}\n"
     ]
    }
   ],
   "source": [
    "def initialize_inventory(products):\n",
    "            inventory = {product: int(input(f\"Enter the quantity of {product}s available: \")) for product in products}\n",
    "            print(inventory)\n",
    "            return inventory\n",
    "\n",
    "products=[\"t-shirt\",\"mug\",\"hat\",\"book\",\"keychain\"]\n",
    "inventory=initialize_inventory([\"t-shirt\",\"mug\",\"hat\",\"book\",\"keychain\"])"
   ]
  },
  {
   "cell_type": "code",
   "execution_count": 36,
   "id": "602936f6",
   "metadata": {},
   "outputs": [
    {
     "data": {
      "text/plain": [
       "{'t-shirt': 1, 'mug': 0, 'hat': 1, 'book': 1, 'keychain': 0}"
      ]
     },
     "execution_count": 36,
     "metadata": {},
     "output_type": "execute_result"
    }
   ],
   "source": [
    "def update_inventory(customer_orders, inventory):\n",
    "    updated_inventory = {item: (quantity - 1 if item in customer_orders else quantity) \n",
    "                         for item, quantity in inventory.items()}\n",
    "    return updated_inventory\n",
    "\n",
    "update_inventory(customer_orders,inventory)"
   ]
  },
  {
   "cell_type": "markdown",
   "id": "f9f48c60",
   "metadata": {},
   "source": [
    "    \n",
    "2. Modify the function get_customer_orders so it prompts the user to enter the number of customer orders and gathers the product names using a loop and user input. Use comprehension."
   ]
  },
  {
   "cell_type": "code",
   "execution_count": 40,
   "id": "e0ba6cad",
   "metadata": {},
   "outputs": [
    {
     "name": "stdout",
     "output_type": "stream",
     "text": [
      "Total Product Ordered: 2\n"
     ]
    }
   ],
   "source": [
    "def get_customer_orders():\n",
    "    customer_orders={input(\"Choose a product: \").lower() for product in range(int(input(\"Choose how many products: \")))}\n",
    "    print(f\"Total Product Ordered: {len(customer_orders)}\")\n",
    "    return customer_orders\n",
    "\n",
    "customer_orders=get_customer_orders()"
   ]
  },
  {
   "cell_type": "markdown",
   "id": "0eab8b10",
   "metadata": {},
   "source": [
    "3. Add a new function to calculate the total price of the customer order. For each product in customer_orders, prompt the user to enter the price of that product. Use comprehension to calculate the total price. Note: assume that the user can only have 1 unit of each product."
   ]
  },
  {
   "cell_type": "code",
   "execution_count": 32,
   "id": "fe30fa06",
   "metadata": {},
   "outputs": [],
   "source": [
    "def calculate_price(customer_orders):\n",
    "    prices={f\"{product} price\":float(input(f\"Enter the price of {product}: \")) for product in customer_orders}\n",
    "    total_price = sum(prices.values())\n",
    "    return total_price\n",
    "\n",
    "total_price=calculate_price(customer_orders)"
   ]
  },
  {
   "cell_type": "markdown",
   "id": "0d7577e4",
   "metadata": {},
   "source": [
    "4. Modify the update_inventory function to remove the product from the inventory if its quantity becomes zero after fulfilling the customer orders. Use comprehension to filter out the products with a quantity of zero from the inventory."
   ]
  },
  {
   "cell_type": "code",
   "execution_count": 30,
   "id": "be3ef5bf",
   "metadata": {},
   "outputs": [
    {
     "data": {
      "text/plain": [
       "{'t-shirt': 5, 'mug': 4, 'hat': 2, 'book': 2}"
      ]
     },
     "execution_count": 30,
     "metadata": {},
     "output_type": "execute_result"
    }
   ],
   "source": [
    "def update_inventory(customer_orders, inventory):\n",
    "    updated_inventory = {item: quantity - 1 if item in customer_orders else quantity\n",
    "                         for item, quantity in inventory.items()\n",
    "                         if not (item in customer_orders and quantity == 1)}\n",
    "    return updated_inventory\n",
    "\n",
    "update_inventory(customer_orders,inventory)"
   ]
  },
  {
   "cell_type": "markdown",
   "id": "80c35eb9",
   "metadata": {},
   "source": [
    "5. Print the total price of the customer order."
   ]
  },
  {
   "cell_type": "code",
   "execution_count": 34,
   "id": "bdf32859",
   "metadata": {},
   "outputs": [
    {
     "name": "stdout",
     "output_type": "stream",
     "text": [
      "Total Price: 8.0\n"
     ]
    }
   ],
   "source": [
    "print(f\"Total Price: {total_price}\")"
   ]
  }
 ],
 "metadata": {
  "kernelspec": {
   "display_name": "Python 3 (ipykernel)",
   "language": "python",
   "name": "python3"
  },
  "language_info": {
   "codemirror_mode": {
    "name": "ipython",
    "version": 3
   },
   "file_extension": ".py",
   "mimetype": "text/x-python",
   "name": "python",
   "nbconvert_exporter": "python",
   "pygments_lexer": "ipython3",
   "version": "3.12.4"
  }
 },
 "nbformat": 4,
 "nbformat_minor": 5
}
