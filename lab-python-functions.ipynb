{
 "cells": [
  {
   "cell_type": "markdown",
   "id": "25d7736c-ba17-4aff-b6bb-66eba20fbf4e",
   "metadata": {},
   "source": [
    "# Lab | Functions"
   ]
  },
  {
   "cell_type": "markdown",
   "id": "0c581062-8967-4d93-b06e-62833222f930",
   "metadata": {
    "tags": []
   },
   "source": [
    "## Exercise: Managing Customer Orders with Functions\n",
    "\n",
    "In the previous exercise, you improved the code for managing customer orders by using loops and flow control. Now, let's take it a step further and refactor the code by introducing functions.\n",
    "\n",
    "Follow the steps below to complete the exercise:\n",
    "\n",
    "1. Define a function named `initialize_inventory` that takes `products` as a parameter. Inside the function, implement the code for initializing the inventory dictionary using a loop and user input.\n",
    "\n",
    "2. Define a function named `get_customer_orders` that takes no parameters. Inside the function, implement the code for prompting the user to enter the product names using a loop. The function should return the `customer_orders` set.\n",
    "\n",
    "3. Define a function named `update_inventory` that takes `customer_orders` and `inventory` as parameters. Inside the function, implement the code for updating the inventory dictionary based on the customer orders.\n",
    "\n",
    "4. Define a function named `calculate_order_statistics` that takes `customer_orders` and `products` as parameters. Inside the function, implement the code for calculating the order statistics (total products ordered, and percentage of unique products ordered). The function should return these values.\n",
    "\n",
    "5. Define a function named `print_order_statistics` that takes `order_statistics` as a parameter. Inside the function, implement the code for printing the order statistics.\n",
    "\n",
    "6. Define a function named `print_updated_inventory` that takes `inventory` as a parameter. Inside the function, implement the code for printing the updated inventory.\n",
    "\n",
    "7. Call the functions in the appropriate sequence to execute the program and manage customer orders.\n",
    "\n",
    "Hints for functions:\n",
    "\n",
    "- Consider the input parameters required for each function and their return values.\n",
    "- Utilize function parameters and return values to transfer data between functions.\n",
    "- Test your functions individually to ensure they work correctly.\n",
    "\n",
    "\n"
   ]
  },
  {
   "cell_type": "markdown",
   "id": "7b762531",
   "metadata": {},
   "source": [
    "1. Define a function named `initialize_inventory` that takes `products` as a parameter. Inside the function, implement the code for initializing the inventory dictionary using a loop and user input."
   ]
  },
  {
   "cell_type": "code",
   "execution_count": 3,
   "id": "d3c6a05f",
   "metadata": {},
   "outputs": [],
   "source": [
    "def initialize_inventory(products)->list:\n",
    "    inventory={}\n",
    "    for product in products:\n",
    "        inventory[product]=int(input(f\"How many {product}s do we have in the inventory? \"))\n",
    "    return inventory"
   ]
  },
  {
   "cell_type": "code",
   "execution_count": 27,
   "id": "19e4835d",
   "metadata": {},
   "outputs": [],
   "source": [
    "products=[\"t-shirt\",\"mug\",\"hat\",\"book\",\"keychain\"]\n",
    "inventory=initialize_inventory([\"t-shirt\",\"mug\",\"hat\",\"book\",\"keychain\"])"
   ]
  },
  {
   "cell_type": "markdown",
   "id": "97c817be",
   "metadata": {},
   "source": [
    "2. Define a function named `get_customer_orders` that takes no parameters. Inside the function, implement the code for prompting the user to enter the product names using a loop. The function should return the `customer_orders` set."
   ]
  },
  {
   "cell_type": "code",
   "execution_count": 15,
   "id": "231ce5e4",
   "metadata": {},
   "outputs": [],
   "source": [
    "def get_customer_orders():\n",
    "    customer_orders=set()\n",
    "    while True:\n",
    "        product=input(\"Choose a product: \")\n",
    "        customer_orders.add(product)\n",
    "        question=input(\"Do you want to add another product? (Yes/No)\").lower()\n",
    "        if question!=\"yes\":\n",
    "            break\n",
    "    return customer_orders"
   ]
  },
  {
   "cell_type": "code",
   "execution_count": 21,
   "id": "f3ed8ebb",
   "metadata": {},
   "outputs": [],
   "source": [
    "customer_orders=get_customer_orders()"
   ]
  },
  {
   "cell_type": "markdown",
   "id": "fe0d1760",
   "metadata": {},
   "source": [
    "3. Define a function named `update_inventory` that takes `customer_orders` and `inventory` as parameters. Inside the function, implement the code for updating the inventory dictionary based on the customer orders."
   ]
  },
  {
   "cell_type": "code",
   "execution_count": 23,
   "id": "d3cfff78",
   "metadata": {},
   "outputs": [],
   "source": [
    "def update_inventory(customer_orders,inventory):\n",
    "    for product in customer_orders:\n",
    "        for item in inventory:\n",
    "            if product==item:\n",
    "                inventory[item]-=1\n",
    "    return inventory "
   ]
  },
  {
   "cell_type": "code",
   "execution_count": 34,
   "id": "6bc0f04c",
   "metadata": {},
   "outputs": [],
   "source": [
    "inventory=update_inventory(customer_orders,inventory)"
   ]
  },
  {
   "cell_type": "markdown",
   "id": "47a1c4a5",
   "metadata": {},
   "source": [
    "4. Define a function named `calculate_order_statistics` that takes `customer_orders` and `products` as parameters. Inside the function, implement the code for calculating the order statistics (total products ordered, and percentage of unique products ordered). The function should return these values."
   ]
  },
  {
   "cell_type": "code",
   "execution_count": 30,
   "id": "3dd41d6b",
   "metadata": {},
   "outputs": [],
   "source": [
    "def calculate_order_statistics(customer_orders,products):\n",
    "    Total_Products_Ordered=len(customer_orders)\n",
    "    Percentage_of_Unique_Products_Ordered=Total_Products_Ordered/len(inventory)\n",
    "    order_statistics=(Total_Products_Ordered,Percentage_of_Unique_Products_Ordered)\n",
    "    return order_statistics"
   ]
  },
  {
   "cell_type": "code",
   "execution_count": 31,
   "id": "491efe6a",
   "metadata": {},
   "outputs": [],
   "source": [
    "order_statistics=calculate_order_statistics(customer_orders,products)"
   ]
  },
  {
   "cell_type": "markdown",
   "id": "62680614",
   "metadata": {},
   "source": [
    "5. Define a function named `print_order_statistics` that takes `order_statistics` as a parameter. Inside the function, implement the code for printing the order statistics."
   ]
  },
  {
   "cell_type": "code",
   "execution_count": 33,
   "id": "c96187ea",
   "metadata": {},
   "outputs": [
    {
     "name": "stdout",
     "output_type": "stream",
     "text": [
      "(2, 0.4)\n"
     ]
    }
   ],
   "source": [
    "def print_order_statistics(order_statistics):\n",
    "    print(order_statistics)\n",
    "print_order_statistics(order_statistics)"
   ]
  },
  {
   "cell_type": "markdown",
   "id": "7c350eeb",
   "metadata": {},
   "source": [
    "6. Define a function named `print_updated_inventory` that takes `inventory` as a parameter. Inside the function, implement the code for printing the updated inventory."
   ]
  },
  {
   "cell_type": "code",
   "execution_count": 35,
   "id": "05e42ce7",
   "metadata": {},
   "outputs": [
    {
     "name": "stdout",
     "output_type": "stream",
     "text": [
      "{'t-shirt': 5, 'mug': 3, 'hat': 3, 'book': 1, 'keychain': 1}\n"
     ]
    }
   ],
   "source": [
    "def print_updated_inventory(inventory):\n",
    "    print(inventory)\n",
    "print_updated_inventory(inventory)"
   ]
  },
  {
   "cell_type": "markdown",
   "id": "0a28af02",
   "metadata": {},
   "source": [
    "7. Call the functions in the appropriate sequence to execute the program and manage customer orders."
   ]
  },
  {
   "cell_type": "code",
   "execution_count": null,
   "id": "94569106",
   "metadata": {},
   "outputs": [],
   "source": [
    "#already done"
   ]
  }
 ],
 "metadata": {
  "kernelspec": {
   "display_name": "Python 3 (ipykernel)",
   "language": "python",
   "name": "python3"
  },
  "language_info": {
   "codemirror_mode": {
    "name": "ipython",
    "version": 3
   },
   "file_extension": ".py",
   "mimetype": "text/x-python",
   "name": "python",
   "nbconvert_exporter": "python",
   "pygments_lexer": "ipython3",
   "version": "3.12.4"
  }
 },
 "nbformat": 4,
 "nbformat_minor": 5
}
