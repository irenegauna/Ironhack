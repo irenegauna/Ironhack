{
  "cells": [
    {
      "cell_type": "markdown",
      "id": "31969215-2a90-4d8b-ac36-646a7ae13744",
      "metadata": {
        "id": "31969215-2a90-4d8b-ac36-646a7ae13744"
      },
      "source": [
        "# Lab | Data Aggregation and Filtering"
      ]
    },
    {
      "cell_type": "markdown",
      "id": "a8f08a52-bec0-439b-99cc-11d3809d8b5d",
      "metadata": {
        "id": "a8f08a52-bec0-439b-99cc-11d3809d8b5d"
      },
      "source": [
        "In this challenge, we will continue to work with customer data from an insurance company. We will use the dataset called marketing_customer_analysis.csv, which can be found at the following link:\n",
        "\n",
        "https://raw.githubusercontent.com/data-bootcamp-v4/data/main/marketing_customer_analysis.csv\n",
        "\n",
        "This dataset contains information such as customer demographics, policy details, vehicle information, and the customer's response to the last marketing campaign. Our goal is to explore and analyze this data by first performing data cleaning, formatting, and structuring."
      ]
    },
    {
      "cell_type": "markdown",
      "id": "9c98ddc5-b041-4c94-ada1-4dfee5c98e50",
      "metadata": {
        "id": "9c98ddc5-b041-4c94-ada1-4dfee5c98e50"
      },
      "source": [
        "1. Create a new DataFrame that only includes customers who have a total_claim_amount greater than $1,000 and have a response of \"Yes\" to the last marketing campaign."
      ]
    },
    {
      "cell_type": "code",
      "execution_count": 3,
      "id": "92de87c4",
      "metadata": {},
      "outputs": [
        {
          "data": {
            "text/html": [
              "<div>\n",
              "<style scoped>\n",
              "    .dataframe tbody tr th:only-of-type {\n",
              "        vertical-align: middle;\n",
              "    }\n",
              "\n",
              "    .dataframe tbody tr th {\n",
              "        vertical-align: top;\n",
              "    }\n",
              "\n",
              "    .dataframe thead th {\n",
              "        text-align: right;\n",
              "    }\n",
              "</style>\n",
              "<table border=\"1\" class=\"dataframe\">\n",
              "  <thead>\n",
              "    <tr style=\"text-align: right;\">\n",
              "      <th></th>\n",
              "      <th>Unnamed: 0</th>\n",
              "      <th>Customer</th>\n",
              "      <th>State</th>\n",
              "      <th>Customer Lifetime Value</th>\n",
              "      <th>Response</th>\n",
              "      <th>Coverage</th>\n",
              "      <th>Education</th>\n",
              "      <th>Effective To Date</th>\n",
              "      <th>EmploymentStatus</th>\n",
              "      <th>Gender</th>\n",
              "      <th>...</th>\n",
              "      <th>Number of Open Complaints</th>\n",
              "      <th>Number of Policies</th>\n",
              "      <th>Policy Type</th>\n",
              "      <th>Policy</th>\n",
              "      <th>Renew Offer Type</th>\n",
              "      <th>Sales Channel</th>\n",
              "      <th>Total Claim Amount</th>\n",
              "      <th>Vehicle Class</th>\n",
              "      <th>Vehicle Size</th>\n",
              "      <th>Vehicle Type</th>\n",
              "    </tr>\n",
              "  </thead>\n",
              "  <tbody>\n",
              "    <tr>\n",
              "      <th>0</th>\n",
              "      <td>0</td>\n",
              "      <td>DK49336</td>\n",
              "      <td>Arizona</td>\n",
              "      <td>4809.21696</td>\n",
              "      <td>No</td>\n",
              "      <td>Basic</td>\n",
              "      <td>College</td>\n",
              "      <td>2/18/11</td>\n",
              "      <td>Employed</td>\n",
              "      <td>M</td>\n",
              "      <td>...</td>\n",
              "      <td>0.0</td>\n",
              "      <td>9</td>\n",
              "      <td>Corporate Auto</td>\n",
              "      <td>Corporate L3</td>\n",
              "      <td>Offer3</td>\n",
              "      <td>Agent</td>\n",
              "      <td>292.8</td>\n",
              "      <td>Four-Door Car</td>\n",
              "      <td>Medsize</td>\n",
              "      <td>NaN</td>\n",
              "    </tr>\n",
              "  </tbody>\n",
              "</table>\n",
              "<p>1 rows × 26 columns</p>\n",
              "</div>"
            ],
            "text/plain": [
              "   Unnamed: 0 Customer    State  Customer Lifetime Value Response Coverage  \\\n",
              "0           0  DK49336  Arizona               4809.21696       No    Basic   \n",
              "\n",
              "  Education Effective To Date EmploymentStatus Gender  ...  \\\n",
              "0   College           2/18/11         Employed      M  ...   \n",
              "\n",
              "   Number of Open Complaints Number of Policies     Policy Type        Policy  \\\n",
              "0                        0.0                  9  Corporate Auto  Corporate L3   \n",
              "\n",
              "   Renew Offer Type  Sales Channel  Total Claim Amount  Vehicle Class  \\\n",
              "0            Offer3          Agent               292.8  Four-Door Car   \n",
              "\n",
              "  Vehicle Size Vehicle Type  \n",
              "0      Medsize          NaN  \n",
              "\n",
              "[1 rows x 26 columns]"
            ]
          },
          "execution_count": 3,
          "metadata": {},
          "output_type": "execute_result"
        }
      ],
      "source": [
        "import pandas as pd\n",
        "df=pd.read_csv(\"https://raw.githubusercontent.com/data-bootcamp-v4/data/main/marketing_customer_analysis.csv\")\n",
        "df.head(1)"
      ]
    },
    {
      "cell_type": "code",
      "execution_count": 12,
      "id": "6f38b9c6",
      "metadata": {},
      "outputs": [
        {
          "data": {
            "text/html": [
              "<div>\n",
              "<style scoped>\n",
              "    .dataframe tbody tr th:only-of-type {\n",
              "        vertical-align: middle;\n",
              "    }\n",
              "\n",
              "    .dataframe tbody tr th {\n",
              "        vertical-align: top;\n",
              "    }\n",
              "\n",
              "    .dataframe thead th {\n",
              "        text-align: right;\n",
              "    }\n",
              "</style>\n",
              "<table border=\"1\" class=\"dataframe\">\n",
              "  <thead>\n",
              "    <tr style=\"text-align: right;\">\n",
              "      <th></th>\n",
              "      <th>Unnamed: 0</th>\n",
              "      <th>Customer</th>\n",
              "      <th>State</th>\n",
              "      <th>Customer Lifetime Value</th>\n",
              "      <th>Response</th>\n",
              "      <th>Coverage</th>\n",
              "      <th>Education</th>\n",
              "      <th>Effective To Date</th>\n",
              "      <th>EmploymentStatus</th>\n",
              "      <th>Gender</th>\n",
              "      <th>...</th>\n",
              "      <th>Number of Open Complaints</th>\n",
              "      <th>Number of Policies</th>\n",
              "      <th>Policy Type</th>\n",
              "      <th>Policy</th>\n",
              "      <th>Renew Offer Type</th>\n",
              "      <th>Sales Channel</th>\n",
              "      <th>Total Claim Amount</th>\n",
              "      <th>Vehicle Class</th>\n",
              "      <th>Vehicle Size</th>\n",
              "      <th>Vehicle Type</th>\n",
              "    </tr>\n",
              "  </thead>\n",
              "  <tbody>\n",
              "    <tr>\n",
              "      <th>189</th>\n",
              "      <td>189</td>\n",
              "      <td>OK31456</td>\n",
              "      <td>California</td>\n",
              "      <td>11009.130490</td>\n",
              "      <td>Yes</td>\n",
              "      <td>Premium</td>\n",
              "      <td>Bachelor</td>\n",
              "      <td>1/24/11</td>\n",
              "      <td>Employed</td>\n",
              "      <td>F</td>\n",
              "      <td>...</td>\n",
              "      <td>0.0</td>\n",
              "      <td>1</td>\n",
              "      <td>Corporate Auto</td>\n",
              "      <td>Corporate L3</td>\n",
              "      <td>Offer2</td>\n",
              "      <td>Agent</td>\n",
              "      <td>1358.400000</td>\n",
              "      <td>Luxury Car</td>\n",
              "      <td>Medsize</td>\n",
              "      <td>NaN</td>\n",
              "    </tr>\n",
              "    <tr>\n",
              "      <th>236</th>\n",
              "      <td>236</td>\n",
              "      <td>YJ16163</td>\n",
              "      <td>Oregon</td>\n",
              "      <td>11009.130490</td>\n",
              "      <td>Yes</td>\n",
              "      <td>Premium</td>\n",
              "      <td>Bachelor</td>\n",
              "      <td>1/24/11</td>\n",
              "      <td>Employed</td>\n",
              "      <td>F</td>\n",
              "      <td>...</td>\n",
              "      <td>0.0</td>\n",
              "      <td>1</td>\n",
              "      <td>Special Auto</td>\n",
              "      <td>Special L3</td>\n",
              "      <td>Offer2</td>\n",
              "      <td>Agent</td>\n",
              "      <td>1358.400000</td>\n",
              "      <td>Luxury Car</td>\n",
              "      <td>Medsize</td>\n",
              "      <td>A</td>\n",
              "    </tr>\n",
              "    <tr>\n",
              "      <th>419</th>\n",
              "      <td>419</td>\n",
              "      <td>GW43195</td>\n",
              "      <td>Oregon</td>\n",
              "      <td>25807.063000</td>\n",
              "      <td>Yes</td>\n",
              "      <td>Extended</td>\n",
              "      <td>College</td>\n",
              "      <td>2/13/11</td>\n",
              "      <td>Employed</td>\n",
              "      <td>F</td>\n",
              "      <td>...</td>\n",
              "      <td>1.0</td>\n",
              "      <td>2</td>\n",
              "      <td>Personal Auto</td>\n",
              "      <td>Personal L2</td>\n",
              "      <td>Offer1</td>\n",
              "      <td>Branch</td>\n",
              "      <td>1027.200000</td>\n",
              "      <td>Luxury Car</td>\n",
              "      <td>Small</td>\n",
              "      <td>A</td>\n",
              "    </tr>\n",
              "    <tr>\n",
              "      <th>442</th>\n",
              "      <td>442</td>\n",
              "      <td>IP94270</td>\n",
              "      <td>Arizona</td>\n",
              "      <td>13736.132500</td>\n",
              "      <td>Yes</td>\n",
              "      <td>Premium</td>\n",
              "      <td>Master</td>\n",
              "      <td>2/13/11</td>\n",
              "      <td>Disabled</td>\n",
              "      <td>F</td>\n",
              "      <td>...</td>\n",
              "      <td>0.0</td>\n",
              "      <td>8</td>\n",
              "      <td>Personal Auto</td>\n",
              "      <td>Personal L2</td>\n",
              "      <td>Offer1</td>\n",
              "      <td>Web</td>\n",
              "      <td>1261.319869</td>\n",
              "      <td>SUV</td>\n",
              "      <td>Medsize</td>\n",
              "      <td>A</td>\n",
              "    </tr>\n",
              "    <tr>\n",
              "      <th>587</th>\n",
              "      <td>587</td>\n",
              "      <td>FJ28407</td>\n",
              "      <td>California</td>\n",
              "      <td>5619.689084</td>\n",
              "      <td>Yes</td>\n",
              "      <td>Premium</td>\n",
              "      <td>High School or Below</td>\n",
              "      <td>1/26/11</td>\n",
              "      <td>Unemployed</td>\n",
              "      <td>M</td>\n",
              "      <td>...</td>\n",
              "      <td>0.0</td>\n",
              "      <td>1</td>\n",
              "      <td>Personal Auto</td>\n",
              "      <td>Personal L1</td>\n",
              "      <td>Offer2</td>\n",
              "      <td>Web</td>\n",
              "      <td>1027.000029</td>\n",
              "      <td>SUV</td>\n",
              "      <td>Medsize</td>\n",
              "      <td>A</td>\n",
              "    </tr>\n",
              "  </tbody>\n",
              "</table>\n",
              "<p>5 rows × 26 columns</p>\n",
              "</div>"
            ],
            "text/plain": [
              "     Unnamed: 0 Customer       State  Customer Lifetime Value Response  \\\n",
              "189         189  OK31456  California             11009.130490      Yes   \n",
              "236         236  YJ16163      Oregon             11009.130490      Yes   \n",
              "419         419  GW43195      Oregon             25807.063000      Yes   \n",
              "442         442  IP94270     Arizona             13736.132500      Yes   \n",
              "587         587  FJ28407  California              5619.689084      Yes   \n",
              "\n",
              "     Coverage             Education Effective To Date EmploymentStatus Gender  \\\n",
              "189   Premium              Bachelor           1/24/11         Employed      F   \n",
              "236   Premium              Bachelor           1/24/11         Employed      F   \n",
              "419  Extended               College           2/13/11         Employed      F   \n",
              "442   Premium                Master           2/13/11         Disabled      F   \n",
              "587   Premium  High School or Below           1/26/11       Unemployed      M   \n",
              "\n",
              "     ...  Number of Open Complaints Number of Policies     Policy Type  \\\n",
              "189  ...                        0.0                  1  Corporate Auto   \n",
              "236  ...                        0.0                  1    Special Auto   \n",
              "419  ...                        1.0                  2   Personal Auto   \n",
              "442  ...                        0.0                  8   Personal Auto   \n",
              "587  ...                        0.0                  1   Personal Auto   \n",
              "\n",
              "           Policy  Renew Offer Type  Sales Channel  Total Claim Amount  \\\n",
              "189  Corporate L3            Offer2          Agent         1358.400000   \n",
              "236    Special L3            Offer2          Agent         1358.400000   \n",
              "419   Personal L2            Offer1         Branch         1027.200000   \n",
              "442   Personal L2            Offer1            Web         1261.319869   \n",
              "587   Personal L1            Offer2            Web         1027.000029   \n",
              "\n",
              "     Vehicle Class Vehicle Size Vehicle Type  \n",
              "189     Luxury Car      Medsize          NaN  \n",
              "236     Luxury Car      Medsize            A  \n",
              "419     Luxury Car        Small            A  \n",
              "442            SUV      Medsize            A  \n",
              "587            SUV      Medsize            A  \n",
              "\n",
              "[5 rows x 26 columns]"
            ]
          },
          "execution_count": 12,
          "metadata": {},
          "output_type": "execute_result"
        }
      ],
      "source": [
        "grouped1=df.groupby(\"Response\")\n",
        "group=grouped1.get_group(\"Yes\")\n",
        "group[group[\"Total Claim Amount\"]>1000].head()"
      ]
    },
    {
      "cell_type": "markdown",
      "id": "b9be383e-5165-436e-80c8-57d4c757c8c3",
      "metadata": {
        "id": "b9be383e-5165-436e-80c8-57d4c757c8c3"
      },
      "source": [
        "2. Using the original Dataframe, analyze the average total_claim_amount by each policy type and gender for customers who have responded \"Yes\" to the last marketing campaign. Write your conclusions."
      ]
    },
    {
      "cell_type": "code",
      "execution_count": 22,
      "id": "1c7f7ac4",
      "metadata": {},
      "outputs": [
        {
          "data": {
            "text/plain": [
              "Gender  Policy Type   \n",
              "F       Corporate Auto    433.738499\n",
              "        Personal Auto     452.965929\n",
              "        Special Auto      453.280164\n",
              "M       Corporate Auto    408.582459\n",
              "        Personal Auto     457.010178\n",
              "        Special Auto      429.527942\n",
              "Name: Total Claim Amount, dtype: float64"
            ]
          },
          "execution_count": 22,
          "metadata": {},
          "output_type": "execute_result"
        }
      ],
      "source": [
        "group.groupby([\"Gender\",\"Policy Type\"])[\"Total Claim Amount\"].mean() #Females have a higher average total claim amount for all policy types except for personal auto"
      ]
    },
    {
      "cell_type": "markdown",
      "id": "7050f4ac-53c5-4193-a3c0-8699b87196f0",
      "metadata": {
        "id": "7050f4ac-53c5-4193-a3c0-8699b87196f0"
      },
      "source": [
        "3. Analyze the total number of customers who have policies in each state, and then filter the results to only include states where there are more than 500 customers."
      ]
    },
    {
      "cell_type": "code",
      "execution_count": 27,
      "id": "92e2c454",
      "metadata": {},
      "outputs": [
        {
          "data": {
            "text/plain": [
              "State\n",
              "Arizona       1937\n",
              "California    3552\n",
              "Nevada         993\n",
              "Oregon        2909\n",
              "Washington     888\n",
              "Name: Customer, dtype: int64"
            ]
          },
          "execution_count": 27,
          "metadata": {},
          "output_type": "execute_result"
        }
      ],
      "source": [
        "states=df.groupby(\"State\")[\"Customer\"].count() #all of them already have more than 500 customers so it is not necessary to filter out\n",
        "states[states>500] #so like we see here, it was not necessary to filter out"
      ]
    },
    {
      "cell_type": "markdown",
      "id": "b60a4443-a1a7-4bbf-b78e-9ccdf9895e0d",
      "metadata": {
        "id": "b60a4443-a1a7-4bbf-b78e-9ccdf9895e0d"
      },
      "source": [
        "4. Find the maximum, minimum, and median customer lifetime value by education level and gender. Write your conclusions."
      ]
    },
    {
      "cell_type": "code",
      "execution_count": 32,
      "id": "27cf7be8",
      "metadata": {},
      "outputs": [
        {
          "data": {
            "text/html": [
              "<div>\n",
              "<style scoped>\n",
              "    .dataframe tbody tr th:only-of-type {\n",
              "        vertical-align: middle;\n",
              "    }\n",
              "\n",
              "    .dataframe tbody tr th {\n",
              "        vertical-align: top;\n",
              "    }\n",
              "\n",
              "    .dataframe thead th {\n",
              "        text-align: right;\n",
              "    }\n",
              "</style>\n",
              "<table border=\"1\" class=\"dataframe\">\n",
              "  <thead>\n",
              "    <tr style=\"text-align: right;\">\n",
              "      <th></th>\n",
              "      <th></th>\n",
              "      <th>max</th>\n",
              "      <th>min</th>\n",
              "      <th>median</th>\n",
              "    </tr>\n",
              "    <tr>\n",
              "      <th>Gender</th>\n",
              "      <th>Education</th>\n",
              "      <th></th>\n",
              "      <th></th>\n",
              "      <th></th>\n",
              "    </tr>\n",
              "  </thead>\n",
              "  <tbody>\n",
              "    <tr>\n",
              "      <th rowspan=\"5\" valign=\"top\">F</th>\n",
              "      <th>Bachelor</th>\n",
              "      <td>73225.96</td>\n",
              "      <td>1904.00</td>\n",
              "      <td>5640.51</td>\n",
              "    </tr>\n",
              "    <tr>\n",
              "      <th>College</th>\n",
              "      <td>61850.19</td>\n",
              "      <td>1898.68</td>\n",
              "      <td>5623.61</td>\n",
              "    </tr>\n",
              "    <tr>\n",
              "      <th>Doctor</th>\n",
              "      <td>44856.11</td>\n",
              "      <td>2395.57</td>\n",
              "      <td>5332.46</td>\n",
              "    </tr>\n",
              "    <tr>\n",
              "      <th>High School or Below</th>\n",
              "      <td>55277.45</td>\n",
              "      <td>2144.92</td>\n",
              "      <td>6039.55</td>\n",
              "    </tr>\n",
              "    <tr>\n",
              "      <th>Master</th>\n",
              "      <td>51016.07</td>\n",
              "      <td>2417.78</td>\n",
              "      <td>5729.86</td>\n",
              "    </tr>\n",
              "    <tr>\n",
              "      <th rowspan=\"5\" valign=\"top\">M</th>\n",
              "      <th>Bachelor</th>\n",
              "      <td>67907.27</td>\n",
              "      <td>1898.01</td>\n",
              "      <td>5548.03</td>\n",
              "    </tr>\n",
              "    <tr>\n",
              "      <th>College</th>\n",
              "      <td>61134.68</td>\n",
              "      <td>1918.12</td>\n",
              "      <td>6005.85</td>\n",
              "    </tr>\n",
              "    <tr>\n",
              "      <th>Doctor</th>\n",
              "      <td>32677.34</td>\n",
              "      <td>2267.60</td>\n",
              "      <td>5577.67</td>\n",
              "    </tr>\n",
              "    <tr>\n",
              "      <th>High School or Below</th>\n",
              "      <td>83325.38</td>\n",
              "      <td>1940.98</td>\n",
              "      <td>6286.73</td>\n",
              "    </tr>\n",
              "    <tr>\n",
              "      <th>Master</th>\n",
              "      <td>50568.26</td>\n",
              "      <td>2272.31</td>\n",
              "      <td>5579.10</td>\n",
              "    </tr>\n",
              "  </tbody>\n",
              "</table>\n",
              "</div>"
            ],
            "text/plain": [
              "                                  max      min   median\n",
              "Gender Education                                       \n",
              "F      Bachelor              73225.96  1904.00  5640.51\n",
              "       College               61850.19  1898.68  5623.61\n",
              "       Doctor                44856.11  2395.57  5332.46\n",
              "       High School or Below  55277.45  2144.92  6039.55\n",
              "       Master                51016.07  2417.78  5729.86\n",
              "M      Bachelor              67907.27  1898.01  5548.03\n",
              "       College               61134.68  1918.12  6005.85\n",
              "       Doctor                32677.34  2267.60  5577.67\n",
              "       High School or Below  83325.38  1940.98  6286.73\n",
              "       Master                50568.26  2272.31  5579.10"
            ]
          },
          "execution_count": 32,
          "metadata": {},
          "output_type": "execute_result"
        }
      ],
      "source": [
        "df.groupby([\"Gender\",\"Education\"])[\"Customer Lifetime Value\"].agg([\"max\",\"min\",\"median\"]).round(2)\n",
        "#For both male and female, we can find a higher customer lifetime value for the lowest education level: High School or below"
      ]
    },
    {
      "cell_type": "markdown",
      "id": "b42999f9-311f-481e-ae63-40a5577072c5",
      "metadata": {
        "id": "b42999f9-311f-481e-ae63-40a5577072c5"
      },
      "source": [
        "## Bonus"
      ]
    },
    {
      "cell_type": "markdown",
      "id": "81ff02c5-6584-4f21-a358-b918697c6432",
      "metadata": {
        "id": "81ff02c5-6584-4f21-a358-b918697c6432"
      },
      "source": [
        "5. The marketing team wants to analyze the number of policies sold by state and month. Present the data in a table where the months are arranged as columns and the states are arranged as rows."
      ]
    },
    {
      "cell_type": "code",
      "execution_count": 42,
      "id": "12b76244",
      "metadata": {},
      "outputs": [],
      "source": [
        "def get_month(x):\n",
        "    return x.split(\"/\")[0]\n",
        "\n",
        "df[\"Month\"]=df[\"Effective To Date\"].apply(lambda x: get_month(x))"
      ]
    },
    {
      "cell_type": "code",
      "execution_count": 44,
      "id": "136ccdf0",
      "metadata": {},
      "outputs": [
        {
          "data": {
            "text/plain": [
              "State       Month\n",
              "Arizona     1        1008\n",
              "            2         929\n",
              "California  1        1918\n",
              "            2        1634\n",
              "Nevada      1         551\n",
              "            2         442\n",
              "Oregon      1        1565\n",
              "            2        1344\n",
              "Washington  1         463\n",
              "            2         425\n",
              "Name: Policy Type, dtype: int64"
            ]
          },
          "execution_count": 44,
          "metadata": {},
          "output_type": "execute_result"
        }
      ],
      "source": [
        "df.groupby([\"State\",\"Month\"])[\"Policy Type\"].count()"
      ]
    },
    {
      "cell_type": "markdown",
      "id": "b6aec097-c633-4017-a125-e77a97259cda",
      "metadata": {
        "id": "b6aec097-c633-4017-a125-e77a97259cda"
      },
      "source": [
        "6.  Display a new DataFrame that contains the number of policies sold by month, by state, for the top 3 states with the highest number of policies sold.\n",
        "\n",
        "*Hint:*\n",
        "- *To accomplish this, you will first need to group the data by state and month, then count the number of policies sold for each group. Afterwards, you will need to sort the data by the count of policies sold in descending order.*\n",
        "- *Next, you will select the top 3 states with the highest number of policies sold.*\n",
        "- *Finally, you will create a new DataFrame that contains the number of policies sold by month for each of the top 3 states.*"
      ]
    },
    {
      "cell_type": "code",
      "execution_count": 57,
      "id": "e36efe63",
      "metadata": {},
      "outputs": [
        {
          "data": {
            "text/plain": [
              "State       Month\n",
              "California  1        1918\n",
              "            2        1634\n",
              "Oregon      1        1565\n",
              "            2        1344\n",
              "Arizona     1        1008\n",
              "            2         929\n",
              "Name: Policy Type, dtype: int64"
            ]
          },
          "execution_count": 57,
          "metadata": {},
          "output_type": "execute_result"
        }
      ],
      "source": [
        "states=df.groupby([\"State\",\"Month\"])[\"Policy Type\"].count()\n",
        "states.sort_values(ascending=False)[0:6]"
      ]
    },
    {
      "cell_type": "markdown",
      "id": "ba975b8a-a2cf-4fbf-9f59-ebc381767009",
      "metadata": {
        "id": "ba975b8a-a2cf-4fbf-9f59-ebc381767009"
      },
      "source": [
        "7. The marketing team wants to analyze the effect of different marketing channels on the customer response rate.\n",
        "\n",
        "Hint: You can use melt to unpivot the data and create a table that shows the customer response rate (those who responded \"Yes\") by marketing channel."
      ]
    },
    {
      "cell_type": "markdown",
      "id": "e4378d94-48fb-4850-a802-b1bc8f427b2d",
      "metadata": {
        "id": "e4378d94-48fb-4850-a802-b1bc8f427b2d"
      },
      "source": [
        "External Resources for Data Filtering: https://towardsdatascience.com/filtering-data-frames-in-pandas-b570b1f834b9"
      ]
    },
    {
      "cell_type": "code",
      "execution_count": 58,
      "id": "449513f4-0459-46a0-a18d-9398d974c9ad",
      "metadata": {
        "id": "449513f4-0459-46a0-a18d-9398d974c9ad"
      },
      "outputs": [
        {
          "data": {
            "text/html": [
              "<div>\n",
              "<style scoped>\n",
              "    .dataframe tbody tr th:only-of-type {\n",
              "        vertical-align: middle;\n",
              "    }\n",
              "\n",
              "    .dataframe tbody tr th {\n",
              "        vertical-align: top;\n",
              "    }\n",
              "\n",
              "    .dataframe thead th {\n",
              "        text-align: right;\n",
              "    }\n",
              "</style>\n",
              "<table border=\"1\" class=\"dataframe\">\n",
              "  <thead>\n",
              "    <tr style=\"text-align: right;\">\n",
              "      <th></th>\n",
              "      <th>Unnamed: 0</th>\n",
              "      <th>Customer</th>\n",
              "      <th>State</th>\n",
              "      <th>Customer Lifetime Value</th>\n",
              "      <th>Response</th>\n",
              "      <th>Coverage</th>\n",
              "      <th>Education</th>\n",
              "      <th>Effective To Date</th>\n",
              "      <th>EmploymentStatus</th>\n",
              "      <th>Gender</th>\n",
              "      <th>Income</th>\n",
              "      <th>Location Code</th>\n",
              "      <th>Marital Status</th>\n",
              "      <th>Monthly Premium Auto</th>\n",
              "      <th>Months Since Last Claim</th>\n",
              "      <th>Months Since Policy Inception</th>\n",
              "      <th>Number of Open Complaints</th>\n",
              "      <th>Number of Policies</th>\n",
              "      <th>Policy Type</th>\n",
              "      <th>Policy</th>\n",
              "      <th>Renew Offer Type</th>\n",
              "      <th>Sales Channel</th>\n",
              "      <th>Total Claim Amount</th>\n",
              "      <th>Vehicle Class</th>\n",
              "      <th>Vehicle Size</th>\n",
              "      <th>Vehicle Type</th>\n",
              "      <th>Month</th>\n",
              "    </tr>\n",
              "  </thead>\n",
              "  <tbody>\n",
              "    <tr>\n",
              "      <th>0</th>\n",
              "      <td>0</td>\n",
              "      <td>DK49336</td>\n",
              "      <td>Arizona</td>\n",
              "      <td>4809.21696</td>\n",
              "      <td>No</td>\n",
              "      <td>Basic</td>\n",
              "      <td>College</td>\n",
              "      <td>2/18/11</td>\n",
              "      <td>Employed</td>\n",
              "      <td>M</td>\n",
              "      <td>48029</td>\n",
              "      <td>Suburban</td>\n",
              "      <td>Married</td>\n",
              "      <td>61</td>\n",
              "      <td>7.0</td>\n",
              "      <td>52</td>\n",
              "      <td>0.0</td>\n",
              "      <td>9</td>\n",
              "      <td>Corporate Auto</td>\n",
              "      <td>Corporate L3</td>\n",
              "      <td>Offer3</td>\n",
              "      <td>Agent</td>\n",
              "      <td>292.8</td>\n",
              "      <td>Four-Door Car</td>\n",
              "      <td>Medsize</td>\n",
              "      <td>NaN</td>\n",
              "      <td>2</td>\n",
              "    </tr>\n",
              "  </tbody>\n",
              "</table>\n",
              "</div>"
            ],
            "text/plain": [
              "   Unnamed: 0 Customer    State  Customer Lifetime Value Response Coverage  \\\n",
              "0           0  DK49336  Arizona               4809.21696       No    Basic   \n",
              "\n",
              "  Education Effective To Date EmploymentStatus Gender  Income Location Code  \\\n",
              "0   College           2/18/11         Employed      M   48029      Suburban   \n",
              "\n",
              "  Marital Status  Monthly Premium Auto  Months Since Last Claim  \\\n",
              "0        Married                    61                      7.0   \n",
              "\n",
              "   Months Since Policy Inception  Number of Open Complaints  \\\n",
              "0                             52                        0.0   \n",
              "\n",
              "   Number of Policies     Policy Type        Policy Renew Offer Type  \\\n",
              "0                   9  Corporate Auto  Corporate L3           Offer3   \n",
              "\n",
              "  Sales Channel  Total Claim Amount  Vehicle Class Vehicle Size Vehicle Type  \\\n",
              "0         Agent               292.8  Four-Door Car      Medsize          NaN   \n",
              "\n",
              "  Month  \n",
              "0     2  "
            ]
          },
          "execution_count": 58,
          "metadata": {},
          "output_type": "execute_result"
        }
      ],
      "source": [
        "pd.set_option('display.max_columns', None)\n",
        "df.head(1)"
      ]
    },
    {
      "cell_type": "code",
      "execution_count": 62,
      "id": "23f76ce1",
      "metadata": {},
      "outputs": [
        {
          "data": {
            "text/html": [
              "<div>\n",
              "<style scoped>\n",
              "    .dataframe tbody tr th:only-of-type {\n",
              "        vertical-align: middle;\n",
              "    }\n",
              "\n",
              "    .dataframe tbody tr th {\n",
              "        vertical-align: top;\n",
              "    }\n",
              "\n",
              "    .dataframe thead tr th {\n",
              "        text-align: left;\n",
              "    }\n",
              "\n",
              "    .dataframe thead tr:last-of-type th {\n",
              "        text-align: right;\n",
              "    }\n",
              "</style>\n",
              "<table border=\"1\" class=\"dataframe\">\n",
              "  <thead>\n",
              "    <tr>\n",
              "      <th></th>\n",
              "      <th colspan=\"2\" halign=\"left\">Customer</th>\n",
              "    </tr>\n",
              "    <tr>\n",
              "      <th>Response</th>\n",
              "      <th>No</th>\n",
              "      <th>Yes</th>\n",
              "    </tr>\n",
              "    <tr>\n",
              "      <th>Sales Channel</th>\n",
              "      <th></th>\n",
              "      <th></th>\n",
              "    </tr>\n",
              "  </thead>\n",
              "  <tbody>\n",
              "    <tr>\n",
              "      <th>Agent</th>\n",
              "      <td>3148</td>\n",
              "      <td>742</td>\n",
              "    </tr>\n",
              "    <tr>\n",
              "      <th>Branch</th>\n",
              "      <td>2539</td>\n",
              "      <td>326</td>\n",
              "    </tr>\n",
              "    <tr>\n",
              "      <th>Call Center</th>\n",
              "      <td>1792</td>\n",
              "      <td>221</td>\n",
              "    </tr>\n",
              "    <tr>\n",
              "      <th>Web</th>\n",
              "      <td>1334</td>\n",
              "      <td>177</td>\n",
              "    </tr>\n",
              "  </tbody>\n",
              "</table>\n",
              "</div>"
            ],
            "text/plain": [
              "              Customer     \n",
              "Response            No  Yes\n",
              "Sales Channel              \n",
              "Agent             3148  742\n",
              "Branch            2539  326\n",
              "Call Center       1792  221\n",
              "Web               1334  177"
            ]
          },
          "execution_count": 62,
          "metadata": {},
          "output_type": "execute_result"
        }
      ],
      "source": [
        "pivot_df = df.pivot_table(index='Sales Channel', columns=\"Response\",values=['Customer'], aggfunc='count').round(2)\n",
        "pivot_df"
      ]
    }
  ],
  "metadata": {
    "colab": {
      "provenance": []
    },
    "kernelspec": {
      "display_name": "Python 3 (ipykernel)",
      "language": "python",
      "name": "python3"
    },
    "language_info": {
      "codemirror_mode": {
        "name": "ipython",
        "version": 3
      },
      "file_extension": ".py",
      "mimetype": "text/x-python",
      "name": "python",
      "nbconvert_exporter": "python",
      "pygments_lexer": "ipython3",
      "version": "3.12.4"
    }
  },
  "nbformat": 4,
  "nbformat_minor": 5
}
